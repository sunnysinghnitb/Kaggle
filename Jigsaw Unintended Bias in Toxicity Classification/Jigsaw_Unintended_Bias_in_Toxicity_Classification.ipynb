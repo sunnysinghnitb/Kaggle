{
  "nbformat": 4,
  "nbformat_minor": 0,
  "metadata": {
    "colab": {
      "name": "Jigsaw Unintended Bias in Toxicity Classification.ipynb",
      "version": "0.3.2",
      "provenance": []
    },
    "kernelspec": {
      "name": "python3",
      "display_name": "Python 3"
    },
    "accelerator": "GPU"
  },
  "cells": [
    {
      "cell_type": "code",
      "metadata": {
        "id": "VRKMCxES081Q",
        "colab_type": "code",
        "colab": {
          "base_uri": "https://localhost:8080/",
          "height": 136
        },
        "outputId": "0d1b66ad-da8b-4cce-f045-c8e7a2f6f4e2"
      },
      "source": [
        "#https://github.com/SriRangaTarun/Jigsaw-Bias-In-Toxicity-Classification\n",
        "#!git clone https://github.com/EliasCai/bert-toxicity-classification\n",
        "#%cd ..\n",
        "#%cd ./.kaggle\n",
        "#!mkdir .kaggle\n",
        "\n",
        "#from google.colab import files\n",
        "#up = files.upload()\n",
        "\n",
        "!unzip sample_submission.csv.zip \n",
        "!ls"
      ],
      "execution_count": 44,
      "outputs": [
        {
          "output_type": "stream",
          "text": [
            "Archive:  sample_submission.csv.zip\n",
            "  inflating: sample_submission.csv   \n",
            "crawl-300d-2M.vec\t    gru_3.hdf5\t\t       test.csv\n",
            "fasttext-crawl-300d-2m.zip  gru_4.hdf5\t\t       test.csv.zip\n",
            "gru_0.hdf5\t\t    nltk_data\t\t       train.csv\n",
            "gru_1.hdf5\t\t    sample_submission.csv      train.csv.zip\n",
            "gru_2.hdf5\t\t    sample_submission.csv.zip\n"
          ],
          "name": "stdout"
        }
      ]
    },
    {
      "cell_type": "code",
      "metadata": {
        "id": "grIjvzmM3nnh",
        "colab_type": "code",
        "colab": {}
      },
      "source": [
        "#!chmod 600 /root/.kaggle/kaggle.json\n",
        "#!kaggle competitions list\n",
        "!kaggle competitions download -c jigsaw-unintended-bias-in-toxicity-classification\n",
        "!kaggle datasets download -d yekenot/fasttext-crawl-300d-2m"
      ],
      "execution_count": 0,
      "outputs": []
    },
    {
      "cell_type": "code",
      "metadata": {
        "id": "VfQvbSg28RyF",
        "colab_type": "code",
        "colab": {
          "base_uri": "https://localhost:8080/",
          "height": 88
        },
        "outputId": "157f2f8f-b4dc-47c8-e5dd-7812d9b434df"
      },
      "source": [
        "import numpy as np\n",
        "import pandas as pd\n",
        "from tqdm import tqdm\n",
        "tqdm.pandas()\n",
        "\n",
        "import os\n",
        "import gc\n",
        "\n",
        "from textblob import TextBlob\n",
        "from nltk.sentiment.vader import SentimentIntensityAnalyzer\n",
        "import gensim\n",
        "\n",
        "from sklearn.model_selection import KFold\n",
        "\n",
        "from keras.layers import *\n",
        "from keras.initializers import *\n",
        "from keras.constraints import *\n",
        "from keras.regularizers import *\n",
        "from keras.activations import *\n",
        "from keras.optimizers import *\n",
        "import keras.backend as K\n",
        "from keras.models import Model\n",
        "from keras.utils import plot_model\n",
        "from keras.utils.vis_utils import model_to_dot\n",
        "from keras.preprocessing.text import Tokenizer\n",
        "from keras.preprocessing.sequence import pad_sequences\n",
        "from keras.callbacks import EarlyStopping, ModelCheckpoint\n",
        "\n",
        "from IPython.display import SVG\n",
        "import matplotlib.pyplot as plt\n",
        "import seaborn as sns\n",
        "\n",
        "import warnings\n",
        "warnings.filterwarnings('ignore')"
      ],
      "execution_count": 18,
      "outputs": [
        {
          "output_type": "stream",
          "text": [
            "/usr/local/lib/python3.6/dist-packages/nltk/twitter/__init__.py:20: UserWarning: The twython library has not been installed. Some functionality from the twitter package will not be available.\n",
            "  warnings.warn(\"The twython library has not been installed. \"\n",
            "Using TensorFlow backend.\n"
          ],
          "name": "stderr"
        }
      ]
    },
    {
      "cell_type": "code",
      "metadata": {
        "id": "D9lZNdW_-Kms",
        "colab_type": "code",
        "colab": {}
      },
      "source": [
        "train_df = pd.read_csv('train.csv')\n",
        "test_df = pd.read_csv('test.csv')"
      ],
      "execution_count": 0,
      "outputs": []
    },
    {
      "cell_type": "code",
      "metadata": {
        "id": "Q4dGee-g-Z01",
        "colab_type": "code",
        "colab": {}
      },
      "source": [
        "TEXT_COL = 'comment_text'\n",
        "EMB_PATH = 'crawl-300d-2M.vec' \n",
        "MAXLEN = 128\n",
        "ENDLEN = 32\n",
        "MAX_FEATURES = 100000\n",
        "EMBED_SIZE = 300\n",
        "BATCH_SIZE = 2048\n",
        "NUM_EPOCHS = 100"
      ],
      "execution_count": 0,
      "outputs": []
    },
    {
      "cell_type": "code",
      "metadata": {
        "id": "a6Nu37GY-mzI",
        "colab_type": "code",
        "colab": {
          "base_uri": "https://localhost:8080/",
          "height": 283
        },
        "outputId": "4975bb21-cf3d-4242-81b3-0fc758a9aabe"
      },
      "source": [
        "lengths = train_df[TEXT_COL].apply(len)\n",
        "train_df['lengths'] = lengths\n",
        "lengths = train_df.loc[train_df['lengths']<1125]['lengths']\n",
        "sns.distplot(lengths, color='r')\n",
        "plt.show()"
      ],
      "execution_count": 22,
      "outputs": [
        {
          "output_type": "display_data",
          "data": {
            "image/png": "[encoded data removed]",
            "text/plain": [
              "<Figure size 432x288 with 1 Axes>"
            ]
          },
          "metadata": {
            "tags": []
          }
        }
      ]
    },
    {
      "cell_type": "code",
      "metadata": {
        "id": "gz_So2mQ-rby",
        "colab_type": "code",
        "colab": {
          "base_uri": "https://localhost:8080/",
          "height": 283
        },
        "outputId": "6c332e63-1de1-44c0-9954-a7925cccce37"
      },
      "source": [
        "words = train_df[TEXT_COL].apply(lambda x: len(x) - len(''.join(x.split())) + 1)\n",
        "train_df['words'] = words\n",
        "words = train_df.loc[train_df['words']<200]['words']\n",
        "sns.distplot(words, color='g')\n",
        "plt.show()"
      ],
      "execution_count": 23,
      "outputs": [
        {
          "output_type": "display_data",
          "data": {
            "image/png": "[encoded data removed]",
            "text/plain": [
              "<Figure size 432x288 with 1 Axes>"
            ]
          },
          "metadata": {
            "tags": []
          }
        }
      ]
    },
    {
      "cell_type": "code",
      "metadata": {
        "id": "YHV518Nj-ySd",
        "colab_type": "code",
        "colab": {
          "base_uri": "https://localhost:8080/",
          "height": 284
        },
        "outputId": "9868bb7f-4c07-41ae-e044-cff0c825a028"
      },
      "source": [
        "avg_word_len = train_df[TEXT_COL].apply(lambda x: 1.0*len(''.join(x.split()))/(len(x) - len(''.join(x.split())) + 1))\n",
        "train_df['avg_word_len'] = avg_word_len\n",
        "avg_word_len = train_df.loc[train_df['avg_word_len']<10]['avg_word_len']\n",
        "sns.distplot(avg_word_len, color='b')\n",
        "plt.show()"
      ],
      "execution_count": 24,
      "outputs": [
        {
          "output_type": "display_data",
          "data": {
            "image/png": "[encoded data removed]",
            "text/plain": [
              "<Figure size 432x288 with 1 Axes>"
            ]
          },
          "metadata": {
            "tags": []
          }
        }
      ]
    },
    {
      "cell_type": "code",
      "metadata": {
        "id": "P8wMI1td_IsZ",
        "colab_type": "code",
        "colab": {
          "base_uri": "https://localhost:8080/",
          "height": 51
        },
        "outputId": "d1bf95a4-db35-4fa4-b58f-bb0468e6f04a"
      },
      "source": [
        "import nltk\n",
        "nltk.download('vader_lexicon')"
      ],
      "execution_count": 26,
      "outputs": [
        {
          "output_type": "stream",
          "text": [
            "[nltk_data] Downloading package vader_lexicon to /root/nltk_data...\n"
          ],
          "name": "stdout"
        },
        {
          "output_type": "execute_result",
          "data": {
            "text/plain": [
              "True"
            ]
          },
          "metadata": {
            "tags": []
          },
          "execution_count": 26
        }
      ]
    },
    {
      "cell_type": "code",
      "metadata": {
        "id": "XfV3lI37-528",
        "colab_type": "code",
        "colab": {}
      },
      "source": [
        "SIA = SentimentIntensityAnalyzer()\n",
        "polarity_0 = train_df.loc[train_df.target<0.5][TEXT_COL].apply(lambda x: SIA.polarity_scores(x))\n",
        "polarity_1 = train_df.loc[train_df.target>0.5][TEXT_COL].apply(lambda x: SIA.polarity_scores(x))"
      ],
      "execution_count": 0,
      "outputs": []
    },
    {
      "cell_type": "code",
      "metadata": {
        "id": "ujhioLUfFhMu",
        "colab_type": "code",
        "colab": {
          "base_uri": "https://localhost:8080/",
          "height": 269
        },
        "outputId": "9a8a212a-72df-4d20-dfca-e13ca8ad0110"
      },
      "source": [
        "sns.distplot([polarity['neg'] for polarity in polarity_0], color='orange')\n",
        "sns.distplot([polarity['neg'] for polarity in polarity_1], color='purple')\n",
        "plt.show()"
      ],
      "execution_count": 28,
      "outputs": [
        {
          "output_type": "display_data",
          "data": {
            "image/png": "[encoded data removed]",
            "text/plain": [
              "<Figure size 432x288 with 1 Axes>"
            ]
          },
          "metadata": {
            "tags": []
          }
        }
      ]
    },
    {
      "cell_type": "code",
      "metadata": {
        "id": "2Cv5OBz_FmX1",
        "colab_type": "code",
        "colab": {
          "base_uri": "https://localhost:8080/",
          "height": 269
        },
        "outputId": "74cee318-792a-4028-8336-3188d16cf971"
      },
      "source": [
        "sns.distplot([polarity['neu'] for polarity in polarity_0], color='orange')\n",
        "sns.distplot([polarity['neu'] for polarity in polarity_1], color='purple')\n",
        "plt.show()"
      ],
      "execution_count": 29,
      "outputs": [
        {
          "output_type": "display_data",
          "data": {
            "image/png": "[encoded data removed]",
            "text/plain": [
              "<Figure size 432x288 with 1 Axes>"
            ]
          },
          "metadata": {
            "tags": []
          }
        }
      ]
    },
    {
      "cell_type": "code",
      "metadata": {
        "id": "il7kKpuGFumX",
        "colab_type": "code",
        "colab": {}
      },
      "source": [
        "def get_coefs(word,*arr):\n",
        "    return word, np.asarray(arr, dtype='float32')\n",
        "\n",
        "def load_embeddings(embed_dir=EMB_PATH):\n",
        "    embedding_index = dict(get_coefs(*o.strip().split(\" \")) for o in tqdm(open(embed_dir)))\n",
        "    return embedding_index\n",
        "\n",
        "def build_embedding_matrix(word_index, embeddings_index, MAX_FEATURES, lower = True, verbose = True):\n",
        "    embedding_matrix = np.zeros((MAX_FEATURES, EMBED_SIZE))\n",
        "    for word, i in tqdm(word_index.items(),disable = not verbose):\n",
        "        if lower:\n",
        "            word = word.lower()\n",
        "        if i >= MAX_FEATURES: continue\n",
        "        try:\n",
        "            embedding_vector = embeddings_index[word]\n",
        "        except:\n",
        "            embedding_vector = embeddings_index[\"unknown\"]\n",
        "        if embedding_vector is not None:\n",
        "            # words not found in embedding index will be all-zeros.\n",
        "            embedding_matrix[i] = embedding_vector\n",
        "    return embedding_matrix\n",
        "\n",
        "def build_matrix(word_index, embeddings_index):\n",
        "    embedding_matrix = np.zeros((len(word_index) + 1, EMBED_SIZE))\n",
        "    for word, i in word_index.items():\n",
        "        try:\n",
        "            embedding_matrix[i] = embeddings_index[word]\n",
        "        except:\n",
        "            embedding_matrix[i] = embeddings_index[\"unknown\"]\n",
        "    return embedding_matrix"
      ],
      "execution_count": 0,
      "outputs": []
    },
    {
      "cell_type": "code",
      "metadata": {
        "id": "Tsqic-mAFxad",
        "colab_type": "code",
        "colab": {
          "base_uri": "https://localhost:8080/",
          "height": 34
        },
        "outputId": "75534494-35cc-4f49-97de-2b962ce85d49"
      },
      "source": [
        "tokenizer = Tokenizer(num_words=MAX_FEATURES, lower=True)\n",
        "tokenizer.fit_on_texts(list(train_df[TEXT_COL]) + list(test_df[TEXT_COL]))\n",
        "word_index = tokenizer.word_index\n",
        "\n",
        "X_train = tokenizer.texts_to_sequences(list(train_df[TEXT_COL]))\n",
        "X_test = tokenizer.texts_to_sequences(list(test_df[TEXT_COL]))\n",
        "\n",
        "\n",
        "X_train = pad_sequences(X_train, maxlen=MAXLEN)\n",
        "X_test = pad_sequences(X_test, maxlen=MAXLEN)\n",
        "\n",
        "y_train = train_df['target'].values\n",
        "\n",
        "del tokenizer\n",
        "gc.collect()"
      ],
      "execution_count": 31,
      "outputs": [
        {
          "output_type": "execute_result",
          "data": {
            "text/plain": [
              "0"
            ]
          },
          "metadata": {
            "tags": []
          },
          "execution_count": 31
        }
      ]
    },
    {
      "cell_type": "code",
      "metadata": {
        "id": "jDlbJBW0Hfqd",
        "colab_type": "code",
        "colab": {
          "base_uri": "https://localhost:8080/",
          "height": 51
        },
        "outputId": "19947b18-8e6c-42f7-df2d-12aa6b6d356d"
      },
      "source": [
        "embeddings_index = load_embeddings()\n",
        "embedding_matrix = build_matrix(word_index, embeddings_index)\n",
        "del embeddings_index\n",
        "gc.collect()"
      ],
      "execution_count": 32,
      "outputs": [
        {
          "output_type": "stream",
          "text": [
            "2000001it [02:13, 14992.08it/s]\n"
          ],
          "name": "stderr"
        },
        {
          "output_type": "execute_result",
          "data": {
            "text/plain": [
              "0"
            ]
          },
          "metadata": {
            "tags": []
          },
          "execution_count": 32
        }
      ]
    },
    {
      "cell_type": "code",
      "metadata": {
        "id": "rnPXNGtnIn-D",
        "colab_type": "code",
        "colab": {}
      },
      "source": [
        "# https://github.com/bfelbo/DeepMoji/blob/master/deepmoji/attlayer.py\n",
        "class AttentionWeightedAverage(Layer):\n",
        "    \"\"\"\n",
        "    Computes a weighted average of the different channels across timesteps.\n",
        "    Uses 1 parameter pr. channel to compute the attention value for a single timestep.\n",
        "    \"\"\"\n",
        "\n",
        "    def __init__(self, return_attention=False, **kwargs):\n",
        "        self.init = initializers.get('uniform')\n",
        "        self.supports_masking = True\n",
        "        self.return_attention = return_attention\n",
        "        super(AttentionWeightedAverage, self).__init__(** kwargs)\n",
        "\n",
        "    def build(self, input_shape):\n",
        "        self.input_spec = [InputSpec(ndim=3)]\n",
        "        assert len(input_shape) == 3\n",
        "\n",
        "        self.W = self.add_weight(shape=(input_shape[2], 1),\n",
        "                                 name='{}_W'.format(self.name),\n",
        "                                 initializer=self.init)\n",
        "        self.trainable_weights = [self.W]\n",
        "        super(AttentionWeightedAverage, self).build(input_shape)\n",
        "\n",
        "    def call(self, x, mask=None):\n",
        "        # computes a probability distribution over the timesteps\n",
        "        # uses 'max trick' for numerical stability\n",
        "        # reshape is done to avoid issue with Tensorflow\n",
        "        # and 1-dimensional weights\n",
        "        logits = K.dot(x, self.W)\n",
        "        x_shape = K.shape(x)\n",
        "        logits = K.reshape(logits, (x_shape[0], x_shape[1]))\n",
        "        ai = K.exp(logits - K.max(logits, axis=-1, keepdims=True))\n",
        "\n",
        "        # masked timesteps have zero weight\n",
        "        if mask is not None:\n",
        "            mask = K.cast(mask, K.floatx())\n",
        "            ai = ai * mask\n",
        "        att_weights = ai / (K.sum(ai, axis=1, keepdims=True) + K.epsilon())\n",
        "        weighted_input = x * K.expand_dims(att_weights)\n",
        "        result = K.sum(weighted_input, axis=1)\n",
        "        if self.return_attention:\n",
        "            return [result, att_weights]\n",
        "        return result\n",
        "\n",
        "    def get_output_shape_for(self, input_shape):\n",
        "        return self.compute_output_shape(input_shape)\n",
        "\n",
        "    def compute_output_shape(self, input_shape):\n",
        "        output_len = input_shape[2]\n",
        "        if self.return_attention:\n",
        "            return [(input_shape[0], output_len), (input_shape[0], input_shape[1])]\n",
        "        return (input_shape[0], output_len)\n",
        "\n",
        "    def compute_mask(self, input, input_mask=None):\n",
        "        if isinstance(input_mask, list):\n",
        "            return [None] * len(input_mask)\n",
        "        else:\n",
        "            return None"
      ],
      "execution_count": 0,
      "outputs": []
    },
    {
      "cell_type": "code",
      "metadata": {
        "id": "rxlup1ceIytx",
        "colab_type": "code",
        "colab": {}
      },
      "source": [
        "class Capsule(Layer):\n",
        "    \"\"\"Capsule Layer implementation in Keras\n",
        "       This implementation is based on Dynamic Routing of Capsules,\n",
        "       Geoffrey Hinton et. al.\n",
        "       The Capsule Layer is a Neural Network Layer which helps\n",
        "       modeling relationships in image and sequential data better\n",
        "       than just CNNs or RNNs. It achieves this by understanding\n",
        "       the spatial relationships between objects (in images)\n",
        "       or words (in text) by encoding additional information\n",
        "       about the image or text, such as angle of rotation,\n",
        "       thickness and brightness, relative proportions etc.\n",
        "       This layer can be used instead of pooling layers to\n",
        "       lower dimensions and still capture important information\n",
        "       about the relationships and structures within the data.\n",
        "       A normal pooling layer would lose a lot of\n",
        "       this information.\n",
        "       This layer can be used on the output of any layer\n",
        "       which has a 3-D output (including batch_size). For example,\n",
        "       in image classification, it can be used on the output of a\n",
        "       Conv2D layer for Computer Vision applications. Also,\n",
        "       it can be used on the output of a GRU or LSTM Layer\n",
        "       (Bidirectional or Unidirectional) for NLP applications.\n",
        "       The default activation function is 'linear'. But, this layer\n",
        "       is generally used with the 'squash' activation function\n",
        "       (recommended). To use the squash activation function, do :\n",
        "       from keras_contrib.activations import squash\n",
        "       capsule = Capsule(num_capsule=10,\n",
        "                         dim_capsule=10,\n",
        "                         routings=3,\n",
        "                         share_weights=True,\n",
        "                         activation=squash)\n",
        "       # Example usage :\n",
        "           1). COMPUTER VISION\n",
        "           input_image = Input(shape=(None, None, 3))\n",
        "           conv_2d = Conv2D(64,\n",
        "                            (3, 3),\n",
        "                            activation='relu')(input_image)\n",
        "           capsule = Capsule(num_capsule=10,\n",
        "                             dim_capsule=16,\n",
        "                             routings=3,\n",
        "                             activation='relu',\n",
        "                             share_weights=True)(conv_2d)\n",
        "           2). NLP\n",
        "           maxlen = 72\n",
        "           max_features = 120000\n",
        "           input_text = Input(shape=(maxlen,))\n",
        "           embedding = Embedding(max_features,\n",
        "                                 embed_size,\n",
        "                                 weights=[embedding_matrix],\n",
        "                                 trainable=False)(input_text)\n",
        "           bi_gru = Bidirectional(GRU(64,\n",
        "                                      return_seqeunces=True))(embedding)\n",
        "           capsule = Capsule(num_capsule=5,\n",
        "                             dim_capsule=5,\n",
        "                             routings=4,\n",
        "                             activation='sigmoid',\n",
        "                             share_weights=True)(bi_gru)\n",
        "       # Arguments\n",
        "           num_capsule : Number of Capsules (int)\n",
        "           dim_capsules : Dimensions of the vector output of each Capsule (int)\n",
        "           routings : Number of dynamic routings in the Capsule Layer (int)\n",
        "           share_weights : Whether to share weights between Capsules or not\n",
        "           (boolean)\n",
        "           activation : Activation function for the Capsules\n",
        "           regularizer : Regularizer for the weights of the Capsules\n",
        "           initializer : Initializer for the weights of the Caspules\n",
        "           constraint : Constraint for the weights of the Capsules\n",
        "       # Input shape\n",
        "            3D tensor with shape:\n",
        "            (batch_size, input_num_capsule, input_dim_capsule)\n",
        "            [any 3-D Tensor with the first dimension as batch_size]\n",
        "       # Output shape\n",
        "            3D tensor with shape:\n",
        "            (batch_size, num_capsule, dim_capsule)\n",
        "       # References\n",
        "        - [Dynamic-Routing-Between-Capsules]\n",
        "          (https://arxiv.org/pdf/1710.09829.pdf)\n",
        "        - [Keras-Examples-CIFAR10-CNN-Capsule]\"\"\"\n",
        "\n",
        "    def __init__(self,\n",
        "                 num_capsule,\n",
        "                 dim_capsule,\n",
        "                 routings=3,\n",
        "                 share_weights=True,\n",
        "                 initializer='glorot_uniform',\n",
        "                 activation=None,\n",
        "                 regularizer=None,\n",
        "                 constraint=None,\n",
        "                 **kwargs):\n",
        "        super(Capsule, self).__init__(**kwargs)\n",
        "        self.num_capsule = num_capsule\n",
        "        self.dim_capsule = dim_capsule\n",
        "        self.routings = routings\n",
        "        self.share_weights = share_weights\n",
        "\n",
        "        self.activation = activations.get(activation)\n",
        "        self.regularizer = regularizers.get(regularizer)\n",
        "        self.initializer = initializers.get(initializer)\n",
        "        self.constraint = constraints.get(constraint)\n",
        "\n",
        "    def build(self, input_shape):\n",
        "        input_dim_capsule = input_shape[-1]\n",
        "        if self.share_weights:\n",
        "            self.W = self.add_weight(name='capsule_kernel',\n",
        "                                     shape=(1,\n",
        "                                            input_dim_capsule,\n",
        "                                            self.num_capsule *\n",
        "                                            self.dim_capsule),\n",
        "                                     initializer=self.initializer,\n",
        "                                     regularizer=self.regularizer,\n",
        "                                     constraint=self.constraint,\n",
        "                                     trainable=True)\n",
        "        else:\n",
        "            input_num_capsule = input_shape[-2]\n",
        "            self.W = self.add_weight(name='capsule_kernel',\n",
        "                                     shape=(input_num_capsule,\n",
        "                                            input_dim_capsule,\n",
        "                                            self.num_capsule *\n",
        "                                            self.dim_capsule),\n",
        "                                     initializer=self.initializer,\n",
        "                                     regularizer=self.regularizer,\n",
        "                                     constraint=self.constraint,\n",
        "                                     trainable=True)\n",
        "\n",
        "        self.build = True\n",
        "\n",
        "    def call(self, inputs):\n",
        "        if self.share_weights:\n",
        "            u_hat_vectors = K.conv1d(inputs, self.W)\n",
        "        else:\n",
        "            u_hat_vectors = K.local_conv1d(inputs, self.W, [1], [1])\n",
        "\n",
        "        # u_hat_vectors : The spatially transformed input vectors (with local_conv_1d)\n",
        "\n",
        "        batch_size = K.shape(inputs)[0]\n",
        "        input_num_capsule = K.shape(inputs)[1]\n",
        "        u_hat_vectors = K.reshape(u_hat_vectors, (batch_size,\n",
        "                                                  input_num_capsule,\n",
        "                                                  self.num_capsule,\n",
        "                                                  self.dim_capsule))\n",
        "\n",
        "        u_hat_vectors = K.permute_dimensions(u_hat_vectors, (0, 2, 1, 3))\n",
        "        routing_weights = K.zeros_like(u_hat_vectors[:, :, :, 0])\n",
        "\n",
        "        for i in range(self.routings):\n",
        "            capsule_weights = K.softmax(routing_weights, 1)\n",
        "            outputs = K.batch_dot(capsule_weights, u_hat_vectors, [2, 2])\n",
        "            if K.ndim(outputs) == 4:\n",
        "                outputs = K.sum(outputs, axis=1)\n",
        "            if i < self.routings - 1:\n",
        "                outputs = K.l2_normalize(outputs, -1)\n",
        "                routing_weights = K.batch_dot(outputs, u_hat_vectors, [2, 3])\n",
        "                if K.ndim(routing_weights) == 4:\n",
        "                    routing_weights = K.sum(routing_weights, axis=1)\n",
        "\n",
        "        return self.activation(outputs)\n",
        "\n",
        "    def compute_output_shape(self, input_shape):\n",
        "        return (None, self.num_capsule, self.dim_capsule)\n",
        "\n",
        "    def get_config(self):\n",
        "        config = {'num_capsule': self.num_capsule,\n",
        "                  'dim_capsule': self.dim_capsule,\n",
        "                  'routings': self.routings,\n",
        "                  'share_weights': self.share_weights,\n",
        "                  'activation': activations.serialize(self.activation),\n",
        "                  'regularizer': regularizers.serialize(self.regularizer),\n",
        "                  'initializer': initializers.serialize(self.initializer),\n",
        "                  'constraint': constraints.serialize(self.constraint)}\n",
        "\n",
        "        base_config = super(Capsule, self).get_config()\n",
        "        return dict(list(base_config.items()) + list(config.items()))"
      ],
      "execution_count": 0,
      "outputs": []
    },
    {
      "cell_type": "code",
      "metadata": {
        "id": "IE8a260RI9Cx",
        "colab_type": "code",
        "colab": {}
      },
      "source": [
        "def squash(x, axis=-1):\n",
        "    \"\"\"\n",
        "    Squash activation function (generally used in Capsule layers).\n",
        "    \"\"\"\n",
        "    s_squared_norm = K.sum(K.square(x), axis, keepdims=True) + K.epsilon()\n",
        "    scale = K.sqrt(s_squared_norm) / (0.5 + s_squared_norm)\n",
        "    return scale * x"
      ],
      "execution_count": 0,
      "outputs": []
    },
    {
      "cell_type": "code",
      "metadata": {
        "id": "Cz4IzOGPJA4h",
        "colab_type": "code",
        "colab": {}
      },
      "source": [
        "def get_model():\n",
        "    inp = Input(shape=(MAXLEN,))\n",
        "    \n",
        "    embed_inp = Embedding(len(word_index) + 1, EMBED_SIZE, weights=[embedding_matrix], input_length=MAXLEN, trainable=False)(inp)\n",
        "    drop_inp = SpatialDropout1D(0.3)(embed_inp)\n",
        "    \n",
        "    bi_lstm = Bidirectional(CuDNNLSTM(64, return_sequences=True))(drop_inp)\n",
        "    \n",
        "    max_pool_lstm = GlobalMaxPooling1D()(bi_lstm)\n",
        "    attention_lstm = AttentionWeightedAverage()(bi_lstm)\n",
        "    capsule = Capsule(num_capsule=5, dim_capsule=5, routings=4, activation=squash)(bi_lstm)\n",
        "    capsule = Flatten()(capsule)\n",
        "    \n",
        "    x = concatenate([max_pool_lstm, attention_lstm, capsule], axis=1)\n",
        "    outp = Dense(1, activation='sigmoid')(x)\n",
        "    \n",
        "    model = Model(inp, outp)\n",
        "    model.compile(loss='binary_crossentropy', optimizer=Adam(lr=0.005, decay=0.001), metrics=['acc'])\n",
        "    \n",
        "    return model"
      ],
      "execution_count": 0,
      "outputs": []
    },
    {
      "cell_type": "code",
      "metadata": {
        "id": "7Ygj1aIiJFME",
        "colab_type": "code",
        "colab": {
          "base_uri": "https://localhost:8080/",
          "height": 139
        },
        "outputId": "331f9570-1f5f-4494-8ce5-3cd4bc07eca4"
      },
      "source": [
        "warnings.filterwarnings('ignore')\n",
        "sample_model  = get_model()"
      ],
      "execution_count": 37,
      "outputs": [
        {
          "output_type": "stream",
          "text": [
            "WARNING:tensorflow:From /usr/local/lib/python3.6/dist-packages/tensorflow/python/framework/op_def_library.py:263: colocate_with (from tensorflow.python.framework.ops) is deprecated and will be removed in a future version.\n",
            "Instructions for updating:\n",
            "Colocations handled automatically by placer.\n",
            "WARNING:tensorflow:From /usr/local/lib/python3.6/dist-packages/keras/backend/tensorflow_backend.py:3445: calling dropout (from tensorflow.python.ops.nn_ops) with keep_prob is deprecated and will be removed in a future version.\n",
            "Instructions for updating:\n",
            "Please use `rate` instead of `keep_prob`. Rate should be set to `rate = 1 - keep_prob`.\n"
          ],
          "name": "stdout"
        }
      ]
    },
    {
      "cell_type": "code",
      "metadata": {
        "id": "pnxwy_mKJK-b",
        "colab_type": "code",
        "colab": {
          "base_uri": "https://localhost:8080/",
          "height": 510
        },
        "outputId": "bf7a0e44-1cb1-486c-c9d1-269cbad7c7e6"
      },
      "source": [
        "sample_model.summary()"
      ],
      "execution_count": 38,
      "outputs": [
        {
          "output_type": "stream",
          "text": [
            "__________________________________________________________________________________________________\n",
            "Layer (type)                    Output Shape         Param #     Connected to                     \n",
            "==================================================================================================\n",
            "input_1 (InputLayer)            (None, 128)          0                                            \n",
            "__________________________________________________________________________________________________\n",
            "embedding_1 (Embedding)         (None, 128, 300)     123014100   input_1[0][0]                    \n",
            "__________________________________________________________________________________________________\n",
            "spatial_dropout1d_1 (SpatialDro (None, 128, 300)     0           embedding_1[0][0]                \n",
            "__________________________________________________________________________________________________\n",
            "bidirectional_1 (Bidirectional) (None, 128, 128)     187392      spatial_dropout1d_1[0][0]        \n",
            "__________________________________________________________________________________________________\n",
            "capsule_1 (Capsule)             (None, 5, 5)         3200        bidirectional_1[0][0]            \n",
            "__________________________________________________________________________________________________\n",
            "global_max_pooling1d_1 (GlobalM (None, 128)          0           bidirectional_1[0][0]            \n",
            "__________________________________________________________________________________________________\n",
            "attention_weighted_average_1 (A (None, 128)          128         bidirectional_1[0][0]            \n",
            "__________________________________________________________________________________________________\n",
            "flatten_1 (Flatten)             (None, 25)           0           capsule_1[0][0]                  \n",
            "__________________________________________________________________________________________________\n",
            "concatenate_1 (Concatenate)     (None, 281)          0           global_max_pooling1d_1[0][0]     \n",
            "                                                                 attention_weighted_average_1[0][0\n",
            "                                                                 flatten_1[0][0]                  \n",
            "__________________________________________________________________________________________________\n",
            "dense_1 (Dense)                 (None, 1)            282         concatenate_1[0][0]              \n",
            "==================================================================================================\n",
            "Total params: 123,205,102\n",
            "Trainable params: 191,002\n",
            "Non-trainable params: 123,014,100\n",
            "__________________________________________________________________________________________________\n"
          ],
          "name": "stdout"
        }
      ]
    },
    {
      "cell_type": "code",
      "metadata": {
        "id": "YnGirYTkJQAU",
        "colab_type": "code",
        "colab": {
          "base_uri": "https://localhost:8080/",
          "height": 762
        },
        "outputId": "d2161685-c8db-4c71-ac80-c35fd420964c"
      },
      "source": [
        "SVG(model_to_dot(sample_model).create(prog='dot', format='svg'))"
      ],
      "execution_count": 39,
      "outputs": [
        {
          "output_type": "execute_result",
          "data": {
            "text/plain": [
              "<IPython.core.display.SVG object>"
            ],
            "image/svg+xml": "<svg height=\"556pt\" viewBox=\"0.00 0.00 649.00 556.00\" width=\"649pt\" xmlns=\"http://www.w3.org/2000/svg\" xmlns:xlink=\"http://www.w3.org/1999/xlink\">\n<g class=\"graph\" id=\"graph0\" transform=\"scale(1 1) rotate(0) translate(4 552)\">\n<title>G</title>\n<polygon fill=\"#ffffff\" points=\"-4,4 -4,-552 645,-552 645,4 -4,4\" stroke=\"transparent\"/>\n<!-- 139893420409968 -->\n<g class=\"node\" id=\"node1\">\n<title>139893420409968</title>\n<polygon fill=\"none\" points=\"191,-511.5 191,-547.5 324,-547.5 324,-511.5 191,-511.5\" stroke=\"#000000\"/>\n<text fill=\"#000000\" font-family=\"Times,serif\" font-size=\"14.00\" text-anchor=\"middle\" x=\"257.5\" y=\"-525.8\">input_1: InputLayer</text>\n</g>\n<!-- 139893420412544 -->\n<g class=\"node\" id=\"node2\">\n<title>139893420412544</title>\n<polygon fill=\"none\" points=\"172,-438.5 172,-474.5 343,-474.5 343,-438.5 172,-438.5\" stroke=\"#000000\"/>\n<text fill=\"#000000\" font-family=\"Times,serif\" font-size=\"14.00\" text-anchor=\"middle\" x=\"257.5\" y=\"-452.8\">embedding_1: Embedding</text>\n</g>\n<!-- 139893420409968&#45;&gt;139893420412544 -->\n<g class=\"edge\" id=\"edge1\">\n<title>139893420409968-&gt;139893420412544</title>\n<path d=\"M257.5,-511.4551C257.5,-503.3828 257.5,-493.6764 257.5,-484.6817\" fill=\"none\" stroke=\"#000000\"/>\n<polygon fill=\"#000000\" points=\"261.0001,-484.5903 257.5,-474.5904 254.0001,-484.5904 261.0001,-484.5903\" stroke=\"#000000\"/>\n</g>\n<!-- 139893960487264 -->\n<g class=\"node\" id=\"node3\">\n<title>139893960487264</title>\n<polygon fill=\"none\" points=\"133,-365.5 133,-401.5 382,-401.5 382,-365.5 133,-365.5\" stroke=\"#000000\"/>\n<text fill=\"#000000\" font-family=\"Times,serif\" font-size=\"14.00\" text-anchor=\"middle\" x=\"257.5\" y=\"-379.8\">spatial_dropout1d_1: SpatialDropout1D</text>\n</g>\n<!-- 139893420412544&#45;&gt;139893960487264 -->\n<g class=\"edge\" id=\"edge2\">\n<title>139893420412544-&gt;139893960487264</title>\n<path d=\"M257.5,-438.4551C257.5,-430.3828 257.5,-420.6764 257.5,-411.6817\" fill=\"none\" stroke=\"#000000\"/>\n<polygon fill=\"#000000\" points=\"261.0001,-411.5903 257.5,-401.5904 254.0001,-411.5904 261.0001,-411.5903\" stroke=\"#000000\"/>\n</g>\n<!-- 139893420411144 -->\n<g class=\"node\" id=\"node4\">\n<title>139893420411144</title>\n<polygon fill=\"none\" points=\"71.5,-292.5 71.5,-328.5 443.5,-328.5 443.5,-292.5 71.5,-292.5\" stroke=\"#000000\"/>\n<text fill=\"#000000\" font-family=\"Times,serif\" font-size=\"14.00\" text-anchor=\"middle\" x=\"257.5\" y=\"-306.8\">bidirectional_1(cu_dnnlstm_1): Bidirectional(CuDNNLSTM)</text>\n</g>\n<!-- 139893960487264&#45;&gt;139893420411144 -->\n<g class=\"edge\" id=\"edge3\">\n<title>139893960487264-&gt;139893420411144</title>\n<path d=\"M257.5,-365.4551C257.5,-357.3828 257.5,-347.6764 257.5,-338.6817\" fill=\"none\" stroke=\"#000000\"/>\n<polygon fill=\"#000000\" points=\"261.0001,-338.5903 257.5,-328.5904 254.0001,-338.5904 261.0001,-338.5903\" stroke=\"#000000\"/>\n</g>\n<!-- 139892809162032 -->\n<g class=\"node\" id=\"node5\">\n<title>139892809162032</title>\n<polygon fill=\"none\" points=\"48,-219.5 48,-255.5 175,-255.5 175,-219.5 48,-219.5\" stroke=\"#000000\"/>\n<text fill=\"#000000\" font-family=\"Times,serif\" font-size=\"14.00\" text-anchor=\"middle\" x=\"111.5\" y=\"-233.8\">capsule_1: Capsule</text>\n</g>\n<!-- 139893420411144&#45;&gt;139892809162032 -->\n<g class=\"edge\" id=\"edge4\">\n<title>139893420411144-&gt;139892809162032</title>\n<path d=\"M221.4101,-292.4551C201.8438,-282.6719 177.4765,-270.4883 156.6612,-260.0806\" fill=\"none\" stroke=\"#000000\"/>\n<polygon fill=\"#000000\" points=\"158.1903,-256.9321 147.6807,-255.5904 155.0597,-263.193 158.1903,-256.9321\" stroke=\"#000000\"/>\n</g>\n<!-- 139892809362120 -->\n<g class=\"node\" id=\"node6\">\n<title>139892809362120</title>\n<polygon fill=\"none\" points=\"131.5,-146.5 131.5,-182.5 435.5,-182.5 435.5,-146.5 131.5,-146.5\" stroke=\"#000000\"/>\n<text fill=\"#000000\" font-family=\"Times,serif\" font-size=\"14.00\" text-anchor=\"middle\" x=\"283.5\" y=\"-160.8\">global_max_pooling1d_1: GlobalMaxPooling1D</text>\n</g>\n<!-- 139893420411144&#45;&gt;139892809362120 -->\n<g class=\"edge\" id=\"edge5\">\n<title>139893420411144-&gt;139892809362120</title>\n<path d=\"M260.7403,-292.3042C265.1777,-267.3868 273.1901,-222.3938 278.4269,-192.9877\" fill=\"none\" stroke=\"#000000\"/>\n<polygon fill=\"#000000\" points=\"281.9113,-193.3839 280.2188,-182.9251 275.0197,-192.1566 281.9113,-193.3839\" stroke=\"#000000\"/>\n</g>\n<!-- 139892809162256 -->\n<g class=\"node\" id=\"node7\">\n<title>139892809162256</title>\n<polygon fill=\"none\" points=\"286,-219.5 286,-255.5 641,-255.5 641,-219.5 286,-219.5\" stroke=\"#000000\"/>\n<text fill=\"#000000\" font-family=\"Times,serif\" font-size=\"14.00\" text-anchor=\"middle\" x=\"463.5\" y=\"-233.8\">attention_weighted_average_1: AttentionWeightedAverage</text>\n</g>\n<!-- 139893420411144&#45;&gt;139892809162256 -->\n<g class=\"edge\" id=\"edge6\">\n<title>139893420411144-&gt;139892809162256</title>\n<path d=\"M308.4214,-292.4551C337.0191,-282.3209 372.8854,-269.611 402.9204,-258.9675\" fill=\"none\" stroke=\"#000000\"/>\n<polygon fill=\"#000000\" points=\"404.1939,-262.2296 412.4505,-255.5904 401.8557,-255.6316 404.1939,-262.2296\" stroke=\"#000000\"/>\n</g>\n<!-- 139892809162424 -->\n<g class=\"node\" id=\"node8\">\n<title>139892809162424</title>\n<polygon fill=\"none\" points=\"0,-146.5 0,-182.5 113,-182.5 113,-146.5 0,-146.5\" stroke=\"#000000\"/>\n<text fill=\"#000000\" font-family=\"Times,serif\" font-size=\"14.00\" text-anchor=\"middle\" x=\"56.5\" y=\"-160.8\">flatten_1: Flatten</text>\n</g>\n<!-- 139892809162032&#45;&gt;139892809162424 -->\n<g class=\"edge\" id=\"edge7\">\n<title>139892809162032-&gt;139892809162424</title>\n<path d=\"M97.9045,-219.4551C91.3599,-210.7686 83.3896,-200.1898 76.196,-190.642\" fill=\"none\" stroke=\"#000000\"/>\n<polygon fill=\"#000000\" points=\"78.9427,-188.4711 70.1297,-182.5904 73.3518,-192.6834 78.9427,-188.4711\" stroke=\"#000000\"/>\n</g>\n<!-- 139892495752720 -->\n<g class=\"node\" id=\"node9\">\n<title>139892495752720</title>\n<polygon fill=\"none\" points=\"196,-73.5 196,-109.5 371,-109.5 371,-73.5 196,-73.5\" stroke=\"#000000\"/>\n<text fill=\"#000000\" font-family=\"Times,serif\" font-size=\"14.00\" text-anchor=\"middle\" x=\"283.5\" y=\"-87.8\">concatenate_1: Concatenate</text>\n</g>\n<!-- 139892809362120&#45;&gt;139892495752720 -->\n<g class=\"edge\" id=\"edge8\">\n<title>139892809362120-&gt;139892495752720</title>\n<path d=\"M283.5,-146.4551C283.5,-138.3828 283.5,-128.6764 283.5,-119.6817\" fill=\"none\" stroke=\"#000000\"/>\n<polygon fill=\"#000000\" points=\"287.0001,-119.5903 283.5,-109.5904 280.0001,-119.5904 287.0001,-119.5903\" stroke=\"#000000\"/>\n</g>\n<!-- 139892809162256&#45;&gt;139892495752720 -->\n<g class=\"edge\" id=\"edge9\">\n<title>139892809162256-&gt;139892495752720</title>\n<path d=\"M464.7191,-219.3685C465.0723,-199.0446 462.4586,-166.288 444.5,-146 433.6874,-133.7849 402.184,-121.9553 369.8786,-112.4565\" fill=\"none\" stroke=\"#000000\"/>\n<polygon fill=\"#000000\" points=\"370.4262,-108.9728 359.8491,-109.5856 368.4998,-115.7025 370.4262,-108.9728\" stroke=\"#000000\"/>\n</g>\n<!-- 139892809162424&#45;&gt;139892495752720 -->\n<g class=\"edge\" id=\"edge10\">\n<title>139892809162424-&gt;139892495752720</title>\n<path d=\"M112.6124,-146.4551C144.3982,-136.2332 184.3329,-123.3907 217.603,-112.6916\" fill=\"none\" stroke=\"#000000\"/>\n<polygon fill=\"#000000\" points=\"218.7981,-115.9838 227.2464,-109.5904 216.655,-109.3199 218.7981,-115.9838\" stroke=\"#000000\"/>\n</g>\n<!-- 139892495752888 -->\n<g class=\"node\" id=\"node10\">\n<title>139892495752888</title>\n<polygon fill=\"none\" points=\"230,-.5 230,-36.5 337,-36.5 337,-.5 230,-.5\" stroke=\"#000000\"/>\n<text fill=\"#000000\" font-family=\"Times,serif\" font-size=\"14.00\" text-anchor=\"middle\" x=\"283.5\" y=\"-14.8\">dense_1: Dense</text>\n</g>\n<!-- 139892495752720&#45;&gt;139892495752888 -->\n<g class=\"edge\" id=\"edge11\">\n<title>139892495752720-&gt;139892495752888</title>\n<path d=\"M283.5,-73.4551C283.5,-65.3828 283.5,-55.6764 283.5,-46.6817\" fill=\"none\" stroke=\"#000000\"/>\n<polygon fill=\"#000000\" points=\"287.0001,-46.5903 283.5,-36.5904 280.0001,-46.5904 287.0001,-46.5903\" stroke=\"#000000\"/>\n</g>\n</g>\n</svg>"
          },
          "metadata": {
            "tags": []
          },
          "execution_count": 39
        }
      ]
    },
    {
      "cell_type": "code",
      "metadata": {
        "id": "KeTaic9zJXr4",
        "colab_type": "code",
        "colab": {}
      },
      "source": [
        "warnings.filterwarnings('ignore')"
      ],
      "execution_count": 0,
      "outputs": []
    },
    {
      "cell_type": "code",
      "metadata": {
        "id": "BkZf7BETJaw_",
        "colab_type": "code",
        "colab": {
          "base_uri": "https://localhost:8080/",
          "height": 1737
        },
        "outputId": "d96fedc9-2d10-427e-8a8a-63f4583dbbb2"
      },
      "source": [
        "splits = list(KFold(n_splits=5).split(X_train, y_train))\n",
        "\n",
        "oof_preds = np.zeros((X_train.shape[0]))\n",
        "test_preds = np.zeros((X_test.shape[0]))\n",
        "\n",
        "for fold in [0, 1, 2, 3, 4]:\n",
        "    K.clear_session()\n",
        "    tr_ind, val_ind = splits[fold]\n",
        "\n",
        "    ckpt = ModelCheckpoint(f'gru_{fold}.hdf5', save_best_only = True)\n",
        "    es = EarlyStopping(monitor='val_loss', mode='min', verbose=1, patience=3)\n",
        "    model = get_model()\n",
        "\n",
        "    model.fit(X_train[tr_ind],\n",
        "              y_train[tr_ind]>0.5,\n",
        "              batch_size=BATCH_SIZE,\n",
        "              epochs=NUM_EPOCHS,\n",
        "              validation_data=(X_train[val_ind], y_train[val_ind]>0.5),\n",
        "              callbacks = [es,ckpt])\n",
        "\n",
        "    oof_preds[val_ind] += model.predict(X_train[val_ind])[:,0]\n",
        "    test_preds += model.predict(X_test)[:,0]\n",
        "\n",
        "test_preds /= 5"
      ],
      "execution_count": 41,
      "outputs": [
        {
          "output_type": "stream",
          "text": [
            "WARNING:tensorflow:From /usr/local/lib/python3.6/dist-packages/tensorflow/python/ops/math_ops.py:3066: to_int32 (from tensorflow.python.ops.math_ops) is deprecated and will be removed in a future version.\n",
            "Instructions for updating:\n",
            "Use tf.cast instead.\n",
            "WARNING:tensorflow:From /usr/local/lib/python3.6/dist-packages/tensorflow/python/ops/math_grad.py:102: div (from tensorflow.python.ops.math_ops) is deprecated and will be removed in a future version.\n",
            "Instructions for updating:\n",
            "Deprecated in favor of operator or tf.math.divide.\n",
            "Train on 1443899 samples, validate on 360975 samples\n",
            "Epoch 1/100\n",
            "1443899/1443899 [==============================] - 164s 113us/step - loss: 0.1165 - acc: 0.9585 - val_loss: 0.0995 - val_acc: 0.9616\n",
            "Epoch 2/100\n",
            "1443899/1443899 [==============================] - 160s 111us/step - loss: 0.0962 - acc: 0.9637 - val_loss: 0.0939 - val_acc: 0.9638\n",
            "Epoch 3/100\n",
            "1443899/1443899 [==============================] - 160s 111us/step - loss: 0.0923 - acc: 0.9650 - val_loss: 0.0902 - val_acc: 0.9654\n",
            "Epoch 4/100\n",
            "1443899/1443899 [==============================] - 160s 111us/step - loss: 0.0902 - acc: 0.9659 - val_loss: 0.0947 - val_acc: 0.9627\n",
            "Epoch 5/100\n",
            "1443899/1443899 [==============================] - 160s 111us/step - loss: 0.0885 - acc: 0.9665 - val_loss: 0.0879 - val_acc: 0.9666\n",
            "Epoch 6/100\n",
            "1443899/1443899 [==============================] - 161s 111us/step - loss: 0.0872 - acc: 0.9668 - val_loss: 0.0887 - val_acc: 0.9658\n",
            "Epoch 7/100\n",
            "1443899/1443899 [==============================] - 161s 111us/step - loss: 0.0863 - acc: 0.9671 - val_loss: 0.0901 - val_acc: 0.9649\n",
            "Epoch 8/100\n",
            "1443899/1443899 [==============================] - 160s 111us/step - loss: 0.0854 - acc: 0.9675 - val_loss: 0.0924 - val_acc: 0.9639\n",
            "Epoch 00008: early stopping\n",
            "Train on 1443899 samples, validate on 360975 samples\n",
            "Epoch 1/100\n",
            "1443899/1443899 [==============================] - 161s 112us/step - loss: 0.1180 - acc: 0.9574 - val_loss: 0.0951 - val_acc: 0.9637\n",
            "Epoch 2/100\n",
            "1443899/1443899 [==============================] - 160s 111us/step - loss: 0.0959 - acc: 0.9640 - val_loss: 0.0905 - val_acc: 0.9659\n",
            "Epoch 3/100\n",
            "1443899/1443899 [==============================] - 160s 111us/step - loss: 0.0922 - acc: 0.9651 - val_loss: 0.0915 - val_acc: 0.9641\n",
            "Epoch 4/100\n",
            "1443899/1443899 [==============================] - 160s 111us/step - loss: 0.0901 - acc: 0.9657 - val_loss: 0.0899 - val_acc: 0.9651\n",
            "Epoch 5/100\n",
            "1443899/1443899 [==============================] - 160s 111us/step - loss: 0.0883 - acc: 0.9665 - val_loss: 0.0893 - val_acc: 0.9653\n",
            "Epoch 6/100\n",
            "1443899/1443899 [==============================] - 160s 111us/step - loss: 0.0871 - acc: 0.9670 - val_loss: 0.0891 - val_acc: 0.9654\n",
            "Epoch 7/100\n",
            "1443899/1443899 [==============================] - 160s 111us/step - loss: 0.0862 - acc: 0.9673 - val_loss: 0.0910 - val_acc: 0.9642\n",
            "Epoch 8/100\n",
            "1443899/1443899 [==============================] - 160s 111us/step - loss: 0.0852 - acc: 0.9676 - val_loss: 0.0930 - val_acc: 0.9631\n",
            "Epoch 9/100\n",
            "1443899/1443899 [==============================] - 159s 110us/step - loss: 0.0845 - acc: 0.9679 - val_loss: 0.0956 - val_acc: 0.9616\n",
            "Epoch 00009: early stopping\n",
            "Train on 1443899 samples, validate on 360975 samples\n",
            "Epoch 1/100\n",
            "1443899/1443899 [==============================] - 161s 111us/step - loss: 0.1199 - acc: 0.9576 - val_loss: 0.0892 - val_acc: 0.9666\n",
            "Epoch 2/100\n",
            "1443899/1443899 [==============================] - 160s 111us/step - loss: 0.0975 - acc: 0.9634 - val_loss: 0.0864 - val_acc: 0.9672\n",
            "Epoch 3/100\n",
            "1443899/1443899 [==============================] - 160s 111us/step - loss: 0.0937 - acc: 0.9647 - val_loss: 0.0851 - val_acc: 0.9675\n",
            "Epoch 4/100\n",
            "1443899/1443899 [==============================] - 160s 111us/step - loss: 0.0916 - acc: 0.9653 - val_loss: 0.0838 - val_acc: 0.9681\n",
            "Epoch 5/100\n",
            "1443899/1443899 [==============================] - 160s 111us/step - loss: 0.0897 - acc: 0.9660 - val_loss: 0.0868 - val_acc: 0.9663\n",
            "Epoch 6/100\n",
            "1443899/1443899 [==============================] - 160s 111us/step - loss: 0.0889 - acc: 0.9662 - val_loss: 0.0855 - val_acc: 0.9671\n",
            "Epoch 7/100\n",
            "1443899/1443899 [==============================] - 160s 111us/step - loss: 0.0877 - acc: 0.9666 - val_loss: 0.0847 - val_acc: 0.9672\n",
            "Epoch 00007: early stopping\n",
            "Train on 1443899 samples, validate on 360975 samples\n",
            "Epoch 1/100\n",
            "1443899/1443899 [==============================] - 161s 111us/step - loss: 0.1172 - acc: 0.9577 - val_loss: 0.0980 - val_acc: 0.9633\n",
            "Epoch 2/100\n",
            "1443899/1443899 [==============================] - 161s 111us/step - loss: 0.0949 - acc: 0.9643 - val_loss: 0.0945 - val_acc: 0.9638\n",
            "Epoch 3/100\n",
            "1443899/1443899 [==============================] - 161s 111us/step - loss: 0.0914 - acc: 0.9654 - val_loss: 0.0921 - val_acc: 0.9647\n",
            "Epoch 4/100\n",
            "1443899/1443899 [==============================] - 161s 111us/step - loss: 0.0889 - acc: 0.9662 - val_loss: 0.0964 - val_acc: 0.9624\n",
            "Epoch 5/100\n",
            "1443899/1443899 [==============================] - 161s 111us/step - loss: 0.0876 - acc: 0.9668 - val_loss: 0.0929 - val_acc: 0.9640\n",
            "Epoch 6/100\n",
            "1443899/1443899 [==============================] - 161s 111us/step - loss: 0.0862 - acc: 0.9672 - val_loss: 0.0926 - val_acc: 0.9639\n",
            "Epoch 00006: early stopping\n",
            "Train on 1443900 samples, validate on 360974 samples\n",
            "Epoch 1/100\n",
            "1443900/1443900 [==============================] - 162s 112us/step - loss: 0.1186 - acc: 0.9577 - val_loss: 0.1005 - val_acc: 0.9619\n",
            "Epoch 2/100\n",
            "1443900/1443900 [==============================] - 161s 111us/step - loss: 0.0951 - acc: 0.9645 - val_loss: 0.0960 - val_acc: 0.9631\n",
            "Epoch 3/100\n",
            "1443900/1443900 [==============================] - 161s 111us/step - loss: 0.0913 - acc: 0.9657 - val_loss: 0.0957 - val_acc: 0.9627\n",
            "Epoch 4/100\n",
            "1443900/1443900 [==============================] - 161s 111us/step - loss: 0.0890 - acc: 0.9664 - val_loss: 0.0953 - val_acc: 0.9627\n",
            "Epoch 5/100\n",
            "1443900/1443900 [==============================] - 161s 111us/step - loss: 0.0874 - acc: 0.9670 - val_loss: 0.0949 - val_acc: 0.9627\n",
            "Epoch 6/100\n",
            "1443900/1443900 [==============================] - 161s 111us/step - loss: 0.0860 - acc: 0.9674 - val_loss: 0.0941 - val_acc: 0.9633\n",
            "Epoch 7/100\n",
            "1443900/1443900 [==============================] - 161s 111us/step - loss: 0.0850 - acc: 0.9679 - val_loss: 0.1058 - val_acc: 0.9571\n",
            "Epoch 8/100\n",
            "1443900/1443900 [==============================] - 161s 111us/step - loss: 0.0843 - acc: 0.9682 - val_loss: 0.0970 - val_acc: 0.9613\n",
            "Epoch 9/100\n",
            "1443900/1443900 [==============================] - 161s 111us/step - loss: 0.0834 - acc: 0.9684 - val_loss: 0.0935 - val_acc: 0.9634\n",
            "Epoch 10/100\n",
            "1443900/1443900 [==============================] - 161s 111us/step - loss: 0.0827 - acc: 0.9687 - val_loss: 0.0962 - val_acc: 0.9617\n",
            "Epoch 11/100\n",
            "1443900/1443900 [==============================] - 161s 112us/step - loss: 0.0823 - acc: 0.9687 - val_loss: 0.1000 - val_acc: 0.9598\n",
            "Epoch 12/100\n",
            "1443900/1443900 [==============================] - 161s 111us/step - loss: 0.0817 - acc: 0.9690 - val_loss: 0.0961 - val_acc: 0.9619\n",
            "Epoch 00012: early stopping\n"
          ],
          "name": "stdout"
        }
      ]
    },
    {
      "cell_type": "code",
      "metadata": {
        "id": "_3_H0tVzMn4H",
        "colab_type": "code",
        "colab": {
          "base_uri": "https://localhost:8080/",
          "height": 204
        },
        "outputId": "3972e53a-4a6e-4640-eaa6-0dfd7f5f4582"
      },
      "source": [
        "submission = pd.read_csv('sample_submission.csv', index_col='id')\n",
        "submission['prediction'] = test_preds\n",
        "submission.reset_index(drop=False, inplace=True)\n",
        "submission.head()"
      ],
      "execution_count": 45,
      "outputs": [
        {
          "output_type": "execute_result",
          "data": {
            "text/html": [
              "<div>\n",
              "<style scoped>\n",
              "    .dataframe tbody tr th:only-of-type {\n",
              "        vertical-align: middle;\n",
              "    }\n",
              "\n",
              "    .dataframe tbody tr th {\n",
              "        vertical-align: top;\n",
              "    }\n",
              "\n",
              "    .dataframe thead th {\n",
              "        text-align: right;\n",
              "    }\n",
              "</style>\n",
              "<table border=\"1\" class=\"dataframe\">\n",
              "  <thead>\n",
              "    <tr style=\"text-align: right;\">\n",
              "      <th></th>\n",
              "      <th>id</th>\n",
              "      <th>prediction</th>\n",
              "    </tr>\n",
              "  </thead>\n",
              "  <tbody>\n",
              "    <tr>\n",
              "      <th>0</th>\n",
              "      <td>7000000</td>\n",
              "      <td>0.001116</td>\n",
              "    </tr>\n",
              "    <tr>\n",
              "      <th>1</th>\n",
              "      <td>7000001</td>\n",
              "      <td>0.000103</td>\n",
              "    </tr>\n",
              "    <tr>\n",
              "      <th>2</th>\n",
              "      <td>7000002</td>\n",
              "      <td>0.005734</td>\n",
              "    </tr>\n",
              "    <tr>\n",
              "      <th>3</th>\n",
              "      <td>7000003</td>\n",
              "      <td>0.001083</td>\n",
              "    </tr>\n",
              "    <tr>\n",
              "      <th>4</th>\n",
              "      <td>7000004</td>\n",
              "      <td>0.964124</td>\n",
              "    </tr>\n",
              "  </tbody>\n",
              "</table>\n",
              "</div>"
            ],
            "text/plain": [
              "        id  prediction\n",
              "0  7000000    0.001116\n",
              "1  7000001    0.000103\n",
              "2  7000002    0.005734\n",
              "3  7000003    0.001083\n",
              "4  7000004    0.964124"
            ]
          },
          "metadata": {
            "tags": []
          },
          "execution_count": 45
        }
      ]
    },
    {
      "cell_type": "code",
      "metadata": {
        "id": "OIXnffu4nwzc",
        "colab_type": "code",
        "colab": {}
      },
      "source": [
        "submission.to_csv('submission.csv', index=False)"
      ],
      "execution_count": 0,
      "outputs": []
    }
  ]
}